{
  "nbformat": 4,
  "nbformat_minor": 0,
  "metadata": {
    "colab": {
      "provenance": [],
      "authorship_tag": "ABX9TyPbOwH5c/y4P+zvOFvJWO/G",
      "include_colab_link": true
    },
    "kernelspec": {
      "name": "python3",
      "display_name": "Python 3"
    },
    "language_info": {
      "name": "python"
    }
  },
  "cells": [
    {
      "cell_type": "markdown",
      "metadata": {
        "id": "view-in-github",
        "colab_type": "text"
      },
      "source": [
        "<a href=\"https://colab.research.google.com/github/Hyeytt/BP_05_Ch6/blob/main/BP_05_Ch6.ipynb\" target=\"_parent\"><img src=\"https://colab.research.google.com/assets/colab-badge.svg\" alt=\"Open In Colab\"/></a>"
      ]
    },
    {
      "cell_type": "markdown",
      "source": [
        "# 1. 2부터 100사이의 모든 짝수를 출력하는 반복루프를 작성한다.\n",
        "\n"
      ],
      "metadata": {
        "id": "iCdvs82gqsuB"
      }
    },
    {
      "cell_type": "code",
      "execution_count": 2,
      "metadata": {
        "colab": {
          "base_uri": "https://localhost:8080/"
        },
        "id": "yy8V9cuIqqLS",
        "outputId": "6569c1d2-878e-4940-c3a8-42da7ef1abbd"
      },
      "outputs": [
        {
          "output_type": "stream",
          "name": "stdout",
          "text": [
            "2 4 6 8 10 12 14 16 18 20 22 24 26 28 30 32 34 36 38 40 42 44 46 48 50 52 54 56 58 60 62 64 66 68 70 72 74 76 78 80 82 84 86 88 90 92 94 96 98 100 "
          ]
        }
      ],
      "source": [
        "for i in range(2, 101):\n",
        " if i%2==0 :\n",
        "  print(i,end = \" \")"
      ]
    },
    {
      "cell_type": "markdown",
      "source": [
        "# 2. 딴 사람이 복리 이자율 7%로 1000만원을 저금했을 경우에 2000만원이 되는데 몇 년이 걸리는지 계산하기 위하여 다음과 코드를 작성하였다. 잘못된 점은 없는지 체크해보자.\n"
      ],
      "metadata": {
        "id": "1IqPG56xrfhS"
      }
    },
    {
      "cell_type": "code",
      "source": [
        "year = 0\n",
        "balance = 1000\n",
        "while balance <= 2000 :\n",
        "  year = year + 1\n",
        "  interest = balance * 0.07\n",
        "  balance = balance + interest\n",
        "print(year, \"년이 걸립니다.\")"
      ],
      "metadata": {
        "colab": {
          "base_uri": "https://localhost:8080/"
        },
        "id": "_VrlbQwdr6o1",
        "outputId": "cf3d3ddb-ee21-47f3-db87-42283ebf7d2d"
      },
      "execution_count": 3,
      "outputs": [
        {
          "output_type": "stream",
          "name": "stdout",
          "text": [
            "11 년이 걸립니다.\n"
          ]
        }
      ]
    },
    {
      "cell_type": "markdown",
      "source": [
        "# 3. 다음코드의 출력을 예상해보자. 각 단계에서 변수의 값을 예상해보시오."
      ],
      "metadata": {
        "id": "qGuGejYCr_U-"
      }
    },
    {
      "cell_type": "code",
      "source": [
        " n=1234  \n",
        "\n",
        " sum=0                              # 오류를 방지하기 위해 0을 설정하고 시작한다.\n",
        " while n > 0 :                      # n이 0보다 클 경우에 만 작동한다는 조건을 부여하는 문장이다.\n",
        "   digit = n % 10                   # %는 나머지를 구하는 연산자이다. digit 에 나머지 값이 저장된다\n",
        "   sum = sum + digit                # sum = 0 + digit(4,3,2,1)\n",
        "   n = n //10                       # 123, 12 , 10의 값이 나온다. 0보다 크기 때문에 계속 반복한다.\n",
        "print(sum)                          # 4+3+2+1 값이 나온다\n"
      ],
      "metadata": {
        "colab": {
          "base_uri": "https://localhost:8080/"
        },
        "id": "nxfB1gPisJE_",
        "outputId": "6fcf4d2d-e5fb-431d-c69f-2b733bd1a315"
      },
      "execution_count": 24,
      "outputs": [
        {
          "output_type": "stream",
          "name": "stdout",
          "text": [
            "10\n"
          ]
        }
      ]
    },
    {
      "cell_type": "markdown",
      "source": [
        "# 4. 사용자에게 곱셈 퀴즈를 내고 답을 사용자로부터 받는 프로그램에서 사용자가 올바른 답을 입력할 때까지 반복하도록 수정하여 보자."
      ],
      "metadata": {
        "id": "vE1mE1GjvLYU"
      }
    },
    {
      "cell_type": "code",
      "source": [
        "answer = 0                                  # answer 값을 0으로 초기화 시킨다\n",
        "while answer != 3*9:                        # '!=' 는 '같지 않다'와 같은 의미이다. 답이 3*9(27)과 다른 답이 나오면 반복된다\n",
        " answer = int(input(\"3*9는\"))               #  3*9의 값을 물어본다\n",
        "print(\"맞았습니다.\")                        # line 3에서 27값이 입력되었다면 \"맞았습니다.\" 가 출력된다\n"
      ],
      "metadata": {
        "colab": {
          "base_uri": "https://localhost:8080/"
        },
        "id": "G4gEs4YsvXmX",
        "outputId": "5c022628-1981-4df0-b990-950c28527c5c"
      },
      "execution_count": 28,
      "outputs": [
        {
          "output_type": "stream",
          "name": "stdout",
          "text": [
            "3*9는27\n",
            "맞았습니다.\n"
          ]
        }
      ]
    },
    {
      "cell_type": "markdown",
      "source": [
        "# 5. 사용자가 입력한 정수의 합을 계산하는 프로그램을 작성하자. 사용자가 O을 입력하기 전까지 정수를 계속하여 읽도록 한다"
      ],
      "metadata": {
        "id": "1XgN2K16w9Yi"
      }
    },
    {
      "cell_type": "code",
      "source": [
        "sum = 0                                          # sum의 값을 0으로 초기화 시킨다\n",
        "while True:                                      # 반복문을 무한히 반복시킨다\n",
        " x = int(input(\"정수를 입력하시오: \"))           # input 함수를 이용하여 입력받은 값을 변수 x에 저장한다\n",
        " if x == 0:                                      # 사용자가 0을 입력했을 경우를 가정한다, ==는 같다라는 뜻이다\n",
        "  break;                                         # 0을 입력했을 경우 반복을 멈춘다 \n",
        " sum = sum + x                                   # 0이 입력되기 전까지 모든 정수를 합한다\n",
        "print(\"합은 \", sum, \"입니다.\")                 "
      ],
      "metadata": {
        "colab": {
          "base_uri": "https://localhost:8080/"
        },
        "id": "548UMC9LxMmU",
        "outputId": "6c337d11-2dd7-4821-9a83-2b370764e0db"
      },
      "execution_count": 31,
      "outputs": [
        {
          "output_type": "stream",
          "name": "stdout",
          "text": [
            "정수를 입력하시오: 8\n",
            "정수를 입력하시오: 2\n",
            "정수를 입력하시오: 3\n",
            "정수를 입력하시오: 4\n",
            "정수를 입력하시오: 0\n",
            "합은  17 입니다.\n"
          ]
        }
      ]
    },
    {
      "cell_type": "markdown",
      "source": [
        "# 6. 난수생성 함수를 사용하여서 2개의 주사위를 던졌을때 나오는 수를 다음와 같이 출력하여 보자."
      ],
      "metadata": {
        "id": "iYswwJHOyZmP"
      }
    },
    {
      "cell_type": "code",
      "source": [
        "from random import randint                            # random 이라고하는 라이브러리에서 randint에 해당하는 값을 불러온다\n",
        "for i in range(3) :                                   # 3번 반복한다\n",
        " d1 = randint(1, 6)                                   # d1의 값을 1에서 6가지로 정함\n",
        " d2 = randint(1, 6)                                   # d2의 값을 1에서 6가지로 정함\n",
        " print(\"첫번째 주사위=\", d1, \"두번째 주사위=\", d2)    "
      ],
      "metadata": {
        "colab": {
          "base_uri": "https://localhost:8080/"
        },
        "id": "OtotGJLlykdW",
        "outputId": "30234e81-5e75-4edf-e659-282df67f1c6e"
      },
      "execution_count": 35,
      "outputs": [
        {
          "output_type": "stream",
          "name": "stdout",
          "text": [
            "첫번째 주사위= 1 두번째 주사위= 4\n",
            "첫번째 주사위= 4 두번째 주사위= 5\n",
            "첫번째 주사위= 6 두번째 주사위= 4\n"
          ]
        }
      ]
    },
    {
      "cell_type": "markdown",
      "source": [
        "# 7. 터틀그래픽과 반복을 사용하여 눈모양을 그려보자.\n"
      ],
      "metadata": {
        "id": "h0rf41pozOWN"
      }
    },
    {
      "cell_type": "markdown",
      "source": [
        "    import turtle                          #turtle 함수를 불러온다\n",
        "    t = turtle.Turtle()                    # 변수 t를 turtle함수와 같다고 정함\n",
        "    t.shape(\"turtle\")                      # t를 거북이 모양으로 정함\n",
        "    t.left(90)                             # t를 왼쪽으로 90도 회전시킨다\n",
        "    for i in range (1,7):                  # 1에서 6까지 반복                \n",
        "        t.forward(100)                         # 앞으로 100만큼 이동\n",
        "        t.forward(-30)                         # -30만큼 이동\n",
        "        t.left(60)                             # 왼쪽으로 60도 회전\n",
        "        t.forward(30)                          # 앞으로 30만큼 이동\n",
        "        t.forward(-30)                         #앞으로 -30만큼 이동\n",
        "        t.right(120)                           #오른쪽으로 120도 회전 \n",
        "        t.forward(30)                          #앞으로 30만큼 이동\n",
        "        t.forward(-30)                         #앞으로 -30만큼 이동\n",
        "        t.left(60)                             #왼쪽으로 60도 만큼 회전\n",
        "        t.forward(-70)                         #앞으로 -70만큼 이동\n",
        "        t.left(60)                             #왼쪽으로 60도 만큼 회전"
      ],
      "metadata": {
        "id": "anJ0j9EUzbBZ"
      }
    },
    {
      "cell_type": "markdown",
      "source": [
        "# 8. 우리는 이번 장에서 터틀 그래픽으로 별을 그려보았다. 이 코드를 응용하여서 다음과 같이 10개의 별을 그리는 프로그램을 작성하라. 별들은 시작 각도가 약간씩 다르다.\n"
      ],
      "metadata": {
        "id": "o0EwoDY8zc6V"
      }
    },
    {
      "cell_type": "markdown",
      "source": [
        "    import turtle                   #turtle 함수를 불러온다 \n",
        "    myPen = turtle.Turtle()         #변수 mypen을 turtle함수와 같다고 정함\n",
        "    myPen.speed(0)                  #speed(0)을 사용해 프로그램 실행속도를 높임\n",
        "    myPen.color(\"#FF0000\")          #펜의 색을 #FF0000\n",
        "    for j in range (1,10):          #아래에 들어쓰여진 문장들을 반복한다\n",
        "      for i in range (1,6):          #아래에 들어쓰여진 문장들을 반복한다\n",
        "        myPen.left(144)               #왼쪽으로 144만큼 이동시킨다\n",
        "        myPen.forward(200)            #앞으로 200만큼 이동시킨다\n",
        "      myPen.left(10)                 #왼쪽으로 100만큼 회전시킨다\n"
      ],
      "metadata": {
        "id": "fxtbxQZszqE5"
      }
    },
    {
      "cell_type": "markdown",
      "source": [
        "# 9. 반복과 난수를 함께 사용하면 화면에 랜덤한 원을 그릴 수 있다. 화면에 10개의 랜덤한 원을 그리는 프로그램을 작성하라 원의 중심과 반지름이 모두 난수이어야 한다."
      ],
      "metadata": {
        "id": "osQQcQWgzuUJ"
      }
    },
    {
      "cell_type": "markdown",
      "source": [
        "    import turtle                      #turtle 함수를 불러온다 \n",
        "    import random                      #random 함수를 불러온다\n",
        "    t = turtle.Turtle()                # 변수 t를 turtle함수와 같다고 정함\n",
        "    t.shape(\"turtle\")                  #t를 거북이 모양으로 정함\n",
        "    for j in range (1,10):             #9번 반복 \n",
        "        t.up()                             #펜을 들어올린다\n",
        "        x = random.randint(-200, 200)      # x를 -200에서 200까지로 랜덤하게 정한다\n",
        "        y = random.randint(-200, 200)      # y를 -200에서 200까지로 랜덤하게 정한다\n",
        "        r = random.randint(10, 200)        # r의 좌표를 10에서 200까지 랜덤하게 정한다\n",
        "        t.goto(x, y)                       # t를 x,y좌표로 이동시킨다\n",
        "        t.down()                           # 펜을 내린다\n",
        "        t.circle(r)                        # 원의 반지름을 r로 한다"
      ],
      "metadata": {
        "id": "ethNlMKLz6Vs"
      }
    },
    {
      "cell_type": "markdown",
      "source": [
        "# 10. 다음와 같이 거븍이를 왕복 달리기시키는 프로그램을 작성해보자"
      ],
      "metadata": {
        "id": "D8QcZ04Tz-Qv"
      }
    },
    {
      "cell_type": "markdown",
      "source": [
        "    import turtle               #turtle 함수를 불러온다 \n",
        "    t = turtle.Turtle()         # 변수 t를 turtle함수와 같다고 정함\n",
        "    t.shape(\"turtle\")           # 변수 t를 turtle함수와 같다고 정함\n",
        "    for i in range(5):          # 5번 반복한다\n",
        "        t.forward(200);         # 앞으로 200만큼 이동시킨다  \n",
        "        t.right(90)             # 오른쪽으로 90도 회전시킨다\n",
        "        t.forward(20);          # 앞으로 20만큼 이동시킨다\n",
        "        t.right(90)             # 오른쪽으로 90도 회전시킨다\n",
        "        t.forward(200);         # 앞으로 200만큼 이동시킨다\n",
        "        t.left(90)              # 왼쪽 90도 회전시킨다\n",
        "        t.forward(20);          # 20만큼 앞으로 이동시킨다\n",
        "        t.left(90)              # 왼쪽으로 90도 회전시킨다           \n"
      ],
      "metadata": {
        "id": "ztU_xpVB0Eml"
      }
    },
    {
      "cell_type": "markdown",
      "source": [
        "# 11. 다음의 터틀 그래픽 프로그램을 분석해보자. 학습하지 않은 함수가 있다면 인터넷에서 조사하여보자. "
      ],
      "metadata": {
        "id": "XkUct1z30Trt"
      }
    },
    {
      "cell_type": "markdown",
      "source": [
        "    import turtle                    # turtle 함수를 불러온다 \n",
        "    t = turtle.Turtle()              # 변수 t를 turtle함수와 같다고 정함  \n",
        "    t.shape(\"turtle\")                # t를 거북이 모양으로 정함\n",
        "    t.color('red', 'yellow')         # 색깔을 빨강과 파랑으로 정함\n",
        "    t.begin_fill()                   # 도형의 색을 채운다.\n",
        "    while True:                      # 계속해서 무한히 반복한다\n",
        "        t.forward(200)                   # 앞으로 200만큼 이동시킨다\n",
        "        t.left(170)                      # 왼쪽으로 170도 회전시킨다\n",
        "        if abs(t.pos()) < 1:             # 거북이 좌표의 절댓값이 1보다 작으면(0)이 되었을 경우\n",
        "             break                       # 반복을 멈춘다\n",
        "    t.end_fill()                     #도형색 채우기을 멈춘다"
      ],
      "metadata": {
        "id": "UcLPeCfb0fG3"
      }
    },
    {
      "cell_type": "markdown",
      "source": [
        "# 12. 터틀 그래픽과 뱐복을 사용하여 싸인(sine) 그래프를 그러보자. 거북이를 싸인값에 따라서 움직이면 된다"
      ],
      "metadata": {
        "id": "F-MFPNw10jz_"
      }
    },
    {
      "cell_type": "markdown",
      "source": [
        "    import turtle                            # turtle 함수를 불러온다 \n",
        "    import math                              # math 함수를 불러온다\n",
        "\n",
        "    t= turtle.Turtle()                       # 변수 t를 turtle함수와 같다고 정함  \n",
        "    t.shape(\"turtle\")                        # 모양을 거북이 모양으로 정함 \n",
        "    t.color('red', 'yellow')                 # 색깔을 빨간색과 노란색으로 정함\n",
        "\n",
        "     for x in range(0, 360):                  # 0에서 360까지 반복\n",
        "         t.goto(x,200*math.sin(x*3.14/180))  # t를 (x , 계산된 사인값)으로 이동시킨다"
      ],
      "metadata": {
        "id": "f6a2aMMF01Rj"
      }
    }
  ]
}